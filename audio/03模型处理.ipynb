{
 "cells": [
  {
   "cell_type": "code",
   "execution_count": 26,
   "id": "57755dc7",
   "metadata": {},
   "outputs": [
    {
     "data": {
      "text/plain": [
       "<Figure size 3840x2880 with 0 Axes>"
      ]
     },
     "metadata": {},
     "output_type": "display_data"
    }
   ],
   "source": [
    "import os\n",
    "import librosa\n",
    "import matplotlib\n",
    "import numpy as np\n",
    "import matplotlib.pyplot as plt\n",
    "from scipy.fft import fft\n",
    "import librosa.display\n",
    "\n",
    "plt.figure(dpi=600)\n",
    "matplotlib.rc(\"font\")\n",
    "matplotlib.rcParams['axes.unicode_minus']=False"
   ]
  },
  {
   "cell_type": "code",
   "execution_count": 27,
   "id": "80463a9b",
   "metadata": {},
   "outputs": [],
   "source": [
    "# 文件目录\n",
    "FilePath = \"/Users/qinjianxun/Downloads/audios/archive/Respiratory_Sound_Database/Respiratory_Sound_Database/audio_and_txt_files\"\n",
    "TargetPath = \"./data/kaggle\"\n",
    "\n",
    "if not os.path.exists(TargetPath):\n",
    "    os.makedirs(TargetPath)\n",
    "\n",
    "# 所有文件名\n",
    "files = os.listdir(FilePath)\n",
    "\n",
    "# 所有txt文件\n",
    "filenames = [f.split('.')[0] for f in files if f.endswith('txt')]"
   ]
  },
  {
   "cell_type": "code",
   "execution_count": 28,
   "id": "009e3266",
   "metadata": {},
   "outputs": [],
   "source": [
    "import io\n",
    "import csv\n",
    "\n",
    "def write_csv(filename:str, data_list:list):\n",
    "    '''\n",
    "    写入csv\n",
    "    ''' \n",
    "    keys = data_list[0].keys()\n",
    "    with open(filename, 'w', newline='') as output_file:\n",
    "        dict_writer = csv.DictWriter(output_file, keys)\n",
    "        dict_writer.writeheader()\n",
    "        dict_writer.writerows(data_list)\n",
    "\n",
    "def print_csv(results: list[dict]):\n",
    "    '''\n",
    "    输出csv到终端\n",
    "    '''\n",
    "    output = io.StringIO()\n",
    "    writer = csv.DictWriter(output, fieldnames=results[0].keys(), delimiter=',')\n",
    "    writer.writeheader()\n",
    "    writer.writerows(results)\n",
    "\n",
    "    print(output.getvalue())"
   ]
  },
  {
   "cell_type": "markdown",
   "id": "29873f4f",
   "metadata": {},
   "source": [
    "# 获取整段音频特征"
   ]
  },
  {
   "cell_type": "code",
   "execution_count": 29,
   "id": "19941d05",
   "metadata": {},
   "outputs": [],
   "source": [
    "def run_one(group: str, filename: str):\n",
    "    y, sr = librosa.load(filename, sr=None)\n",
    "    \n",
    "    chroma_stft = librosa.feature.chroma_stft(y=y, sr=sr)\n",
    "    rmse = librosa.feature.rms(y=y)\n",
    "    spectral_centroid = librosa.feature.spectral_centroid(y=y, sr=sr)\n",
    "    spectral_bandwidth = librosa.feature.spectral_bandwidth(y=y, sr=sr)\n",
    "    spectral_rolloff = librosa.feature.spectral_rolloff(y=y, sr=sr)\n",
    "    zcr_nums = librosa.zero_crossings(y, pad=False)\n",
    "    zcr = librosa.feature.zero_crossing_rate(y)\n",
    "    \n",
    "    result = {\n",
    "        \"group\": f'type-{group}',\n",
    "        \"chroma_stft\": np.mean(chroma_stft),\n",
    "        \"rmse\": np.mean(rmse),\n",
    "        \"spectral_centroid\": np.mean(spectral_centroid),\n",
    "        \"spectral_bandwidth\": np.mean(spectral_bandwidth),\n",
    "        \"spectral_rolloff\": np.mean(spectral_rolloff),\n",
    "        \"zcr_num\": sum(zcr_nums),\n",
    "        \"zcr\": np.mean(zcr),\n",
    "    } \n",
    "    \n",
    "    mfcc = librosa.feature.mfcc(y=y, sr=sr)\n",
    "    idx = 0\n",
    "    for e in mfcc:\n",
    "        idx += 1\n",
    "        result[f'mfcc_{idx}'] = np.mean(e)\n",
    "        \n",
    "    return result"
   ]
  },
  {
   "cell_type": "code",
   "execution_count": 30,
   "id": "d4327071",
   "metadata": {},
   "outputs": [],
   "source": [
    "def main():\n",
    "    # 存储每个呼吸周期的峰值\n",
    "    results = []\n",
    "    path = './data/kaggle/'\n",
    "    \n",
    "    for g in [\"00\", \"01\", \"10\", \"11\"]:\n",
    "        path_dir = os.path.join(path, g)\n",
    "        tmp = list(g)\n",
    "        for f in os.listdir(path_dir):  \n",
    "            if not f.endswith('.wav'):\n",
    "                continue\n",
    "            file_wav = os.path.join(path_dir, f)\n",
    "\n",
    "            result = run_one(g, file_wav)\n",
    "            # 添加\n",
    "            results.append(result)\n",
    "        print('batch %s done', g)\n",
    "        \n",
    "    write_csv(\"features.csv\", results)\n",
    "    print('All Done')"
   ]
  },
  {
   "cell_type": "code",
   "execution_count": 31,
   "id": "fcab3e2b",
   "metadata": {},
   "outputs": [
    {
     "name": "stdout",
     "output_type": "stream",
     "text": [
      "batch %s done 00\n",
      "batch %s done 01\n",
      "batch %s done 10\n",
      "batch %s done 11\n",
      "All Done\n"
     ]
    }
   ],
   "source": [
    "main()"
   ]
  },
  {
   "cell_type": "markdown",
   "id": "8fdfa105",
   "metadata": {},
   "source": [
    "# 模型训练"
   ]
  },
  {
   "cell_type": "code",
   "execution_count": 145,
   "id": "e23b9f03",
   "metadata": {},
   "outputs": [],
   "source": [
    "import pandas as pd\n",
    "import numpy as np"
   ]
  },
  {
   "cell_type": "code",
   "execution_count": 146,
   "id": "e0cfcf9d",
   "metadata": {},
   "outputs": [
    {
     "data": {
      "text/html": [
       "<div>\n",
       "<style scoped>\n",
       "    .dataframe tbody tr th:only-of-type {\n",
       "        vertical-align: middle;\n",
       "    }\n",
       "\n",
       "    .dataframe tbody tr th {\n",
       "        vertical-align: top;\n",
       "    }\n",
       "\n",
       "    .dataframe thead th {\n",
       "        text-align: right;\n",
       "    }\n",
       "</style>\n",
       "<table border=\"1\" class=\"dataframe\">\n",
       "  <thead>\n",
       "    <tr style=\"text-align: right;\">\n",
       "      <th></th>\n",
       "      <th>group</th>\n",
       "      <th>chroma_stft</th>\n",
       "      <th>rmse</th>\n",
       "      <th>spectral_centroid</th>\n",
       "      <th>spectral_bandwidth</th>\n",
       "      <th>spectral_rolloff</th>\n",
       "      <th>zcr_num</th>\n",
       "      <th>zcr</th>\n",
       "      <th>mfcc_1</th>\n",
       "      <th>mfcc_2</th>\n",
       "      <th>...</th>\n",
       "      <th>mfcc_11</th>\n",
       "      <th>mfcc_12</th>\n",
       "      <th>mfcc_13</th>\n",
       "      <th>mfcc_14</th>\n",
       "      <th>mfcc_15</th>\n",
       "      <th>mfcc_16</th>\n",
       "      <th>mfcc_17</th>\n",
       "      <th>mfcc_18</th>\n",
       "      <th>mfcc_19</th>\n",
       "      <th>mfcc_20</th>\n",
       "    </tr>\n",
       "  </thead>\n",
       "  <tbody>\n",
       "    <tr>\n",
       "      <th>0</th>\n",
       "      <td>type-00</td>\n",
       "      <td>0.556985</td>\n",
       "      <td>0.085817</td>\n",
       "      <td>88.714968</td>\n",
       "      <td>123.714233</td>\n",
       "      <td>158.751371</td>\n",
       "      <td>1206</td>\n",
       "      <td>0.020379</td>\n",
       "      <td>-387.88930</td>\n",
       "      <td>152.08089</td>\n",
       "      <td>...</td>\n",
       "      <td>4.354294</td>\n",
       "      <td>7.367830</td>\n",
       "      <td>7.364809</td>\n",
       "      <td>3.390840</td>\n",
       "      <td>-1.110890</td>\n",
       "      <td>-0.619730</td>\n",
       "      <td>2.793594</td>\n",
       "      <td>4.918705</td>\n",
       "      <td>4.073652</td>\n",
       "      <td>2.081417</td>\n",
       "    </tr>\n",
       "    <tr>\n",
       "      <th>1</th>\n",
       "      <td>type-00</td>\n",
       "      <td>0.808080</td>\n",
       "      <td>0.078067</td>\n",
       "      <td>1673.894861</td>\n",
       "      <td>4072.014039</td>\n",
       "      <td>2972.356877</td>\n",
       "      <td>5484</td>\n",
       "      <td>0.006209</td>\n",
       "      <td>-374.35577</td>\n",
       "      <td>87.43144</td>\n",
       "      <td>...</td>\n",
       "      <td>10.431167</td>\n",
       "      <td>9.058080</td>\n",
       "      <td>7.436806</td>\n",
       "      <td>5.599691</td>\n",
       "      <td>3.854623</td>\n",
       "      <td>2.706923</td>\n",
       "      <td>2.446090</td>\n",
       "      <td>2.788692</td>\n",
       "      <td>3.249979</td>\n",
       "      <td>3.392334</td>\n",
       "    </tr>\n",
       "    <tr>\n",
       "      <th>2</th>\n",
       "      <td>type-00</td>\n",
       "      <td>0.739392</td>\n",
       "      <td>0.003408</td>\n",
       "      <td>1191.565172</td>\n",
       "      <td>3357.838078</td>\n",
       "      <td>1258.936284</td>\n",
       "      <td>6275</td>\n",
       "      <td>0.007106</td>\n",
       "      <td>-676.18475</td>\n",
       "      <td>153.19490</td>\n",
       "      <td>...</td>\n",
       "      <td>4.379502</td>\n",
       "      <td>3.920803</td>\n",
       "      <td>2.489913</td>\n",
       "      <td>4.005516</td>\n",
       "      <td>4.687814</td>\n",
       "      <td>6.088821</td>\n",
       "      <td>4.997719</td>\n",
       "      <td>4.488901</td>\n",
       "      <td>2.394674</td>\n",
       "      <td>2.082758</td>\n",
       "    </tr>\n",
       "    <tr>\n",
       "      <th>3</th>\n",
       "      <td>type-00</td>\n",
       "      <td>0.532201</td>\n",
       "      <td>0.050532</td>\n",
       "      <td>96.479585</td>\n",
       "      <td>135.272491</td>\n",
       "      <td>166.850843</td>\n",
       "      <td>1742</td>\n",
       "      <td>0.022281</td>\n",
       "      <td>-414.85135</td>\n",
       "      <td>144.87567</td>\n",
       "      <td>...</td>\n",
       "      <td>0.799416</td>\n",
       "      <td>4.034758</td>\n",
       "      <td>4.903068</td>\n",
       "      <td>2.081618</td>\n",
       "      <td>-1.771518</td>\n",
       "      <td>-1.294276</td>\n",
       "      <td>2.859949</td>\n",
       "      <td>5.483337</td>\n",
       "      <td>4.025387</td>\n",
       "      <td>2.403556</td>\n",
       "    </tr>\n",
       "    <tr>\n",
       "      <th>4</th>\n",
       "      <td>type-00</td>\n",
       "      <td>0.814269</td>\n",
       "      <td>0.063564</td>\n",
       "      <td>1708.851728</td>\n",
       "      <td>4089.351452</td>\n",
       "      <td>2992.052946</td>\n",
       "      <td>6213</td>\n",
       "      <td>0.007040</td>\n",
       "      <td>-392.15018</td>\n",
       "      <td>103.45956</td>\n",
       "      <td>...</td>\n",
       "      <td>12.531859</td>\n",
       "      <td>12.385639</td>\n",
       "      <td>11.274233</td>\n",
       "      <td>7.991354</td>\n",
       "      <td>5.295948</td>\n",
       "      <td>6.008972</td>\n",
       "      <td>6.626599</td>\n",
       "      <td>5.181288</td>\n",
       "      <td>3.607966</td>\n",
       "      <td>3.557192</td>\n",
       "    </tr>\n",
       "  </tbody>\n",
       "</table>\n",
       "<p>5 rows × 28 columns</p>\n",
       "</div>"
      ],
      "text/plain": [
       "     group  chroma_stft      rmse  spectral_centroid  spectral_bandwidth  \\\n",
       "0  type-00     0.556985  0.085817          88.714968          123.714233   \n",
       "1  type-00     0.808080  0.078067        1673.894861         4072.014039   \n",
       "2  type-00     0.739392  0.003408        1191.565172         3357.838078   \n",
       "3  type-00     0.532201  0.050532          96.479585          135.272491   \n",
       "4  type-00     0.814269  0.063564        1708.851728         4089.351452   \n",
       "\n",
       "   spectral_rolloff  zcr_num       zcr     mfcc_1     mfcc_2  ...    mfcc_11  \\\n",
       "0        158.751371     1206  0.020379 -387.88930  152.08089  ...   4.354294   \n",
       "1       2972.356877     5484  0.006209 -374.35577   87.43144  ...  10.431167   \n",
       "2       1258.936284     6275  0.007106 -676.18475  153.19490  ...   4.379502   \n",
       "3        166.850843     1742  0.022281 -414.85135  144.87567  ...   0.799416   \n",
       "4       2992.052946     6213  0.007040 -392.15018  103.45956  ...  12.531859   \n",
       "\n",
       "     mfcc_12    mfcc_13   mfcc_14   mfcc_15   mfcc_16   mfcc_17   mfcc_18  \\\n",
       "0   7.367830   7.364809  3.390840 -1.110890 -0.619730  2.793594  4.918705   \n",
       "1   9.058080   7.436806  5.599691  3.854623  2.706923  2.446090  2.788692   \n",
       "2   3.920803   2.489913  4.005516  4.687814  6.088821  4.997719  4.488901   \n",
       "3   4.034758   4.903068  2.081618 -1.771518 -1.294276  2.859949  5.483337   \n",
       "4  12.385639  11.274233  7.991354  5.295948  6.008972  6.626599  5.181288   \n",
       "\n",
       "    mfcc_19   mfcc_20  \n",
       "0  4.073652  2.081417  \n",
       "1  3.249979  3.392334  \n",
       "2  2.394674  2.082758  \n",
       "3  4.025387  2.403556  \n",
       "4  3.607966  3.557192  \n",
       "\n",
       "[5 rows x 28 columns]"
      ]
     },
     "execution_count": 146,
     "metadata": {},
     "output_type": "execute_result"
    }
   ],
   "source": [
    "df = pd.read_csv(\"features.csv\")\n",
    "df.head(5)"
   ]
  },
  {
   "cell_type": "code",
   "execution_count": 151,
   "id": "dd54f309",
   "metadata": {},
   "outputs": [
    {
     "name": "stdout",
     "output_type": "stream",
     "text": [
      "(920, 27)\n",
      "(920,)\n"
     ]
    }
   ],
   "source": [
    "# 分离feature和labels\n",
    "GROUP_2_LABEL = {\n",
    "    \"type-00\": 0,\n",
    "    \"type-01\": 1,\n",
    "    \"type-10\": 2,\n",
    "    \"type-11\": 3,\n",
    "}\n",
    "\n",
    "labels = []\n",
    "for i in df[\"group\"]:\n",
    "    labels.append(GROUP_2_LABEL[i])\n",
    "    \n",
    "# features\n",
    "x = df.iloc[:,1:]\n",
    "# labels\n",
    "y = np.array(labels)\n",
    "    \n",
    "print(x.shape)\n",
    "print(y.shape)"
   ]
  },
  {
   "cell_type": "code",
   "execution_count": 165,
   "id": "b5f67c38",
   "metadata": {},
   "outputs": [
    {
     "name": "stdout",
     "output_type": "stream",
     "text": [
      "(644, 27)\n",
      "(276, 27)\n"
     ]
    }
   ],
   "source": [
    "# 拆分训练接和测试集, 测试集占30%\n",
    "\n",
    "from sklearn.model_selection import train_test_split\n",
    "x_train, x_test, y_train, y_test = train_test_split(x,y,test_size=0.3)\n",
    "\n",
    "print(x_train.shape)\n",
    "print(x_test.shape)"
   ]
  },
  {
   "cell_type": "markdown",
   "id": "9a4d3081",
   "metadata": {},
   "source": [
    "## KNN模型"
   ]
  },
  {
   "cell_type": "code",
   "execution_count": 169,
   "id": "1f6e0be5",
   "metadata": {},
   "outputs": [],
   "source": [
    "from sklearn import neighbors\n",
    "from sklearn.metrics import accuracy_score\n",
    "\n",
    "def KNN():\n",
    "    # 创建模型\n",
    "    classifier=neighbors.KNeighborsClassifier()\n",
    "    # 训练模型\n",
    "    classifier.fit(x_train,y_train)\n",
    "    # 预测\n",
    "    predictions=classifier.predict(x_test)\n",
    "    # 评估准确率\n",
    "    accuracy = accuracy_score(y_test, predictions)\n",
    "    print(accuracy)"
   ]
  },
  {
   "cell_type": "code",
   "execution_count": 170,
   "id": "11d06fcb",
   "metadata": {},
   "outputs": [
    {
     "name": "stdout",
     "output_type": "stream",
     "text": [
      "0.5036231884057971\n"
     ]
    }
   ],
   "source": [
    "KNN()"
   ]
  },
  {
   "cell_type": "markdown",
   "id": "90ef7e74",
   "metadata": {},
   "source": [
    "## 决策树模型"
   ]
  },
  {
   "cell_type": "code",
   "execution_count": 171,
   "id": "7caa7e3d",
   "metadata": {},
   "outputs": [],
   "source": [
    "from sklearn import tree\n",
    "from sklearn.metrics import accuracy_score\n",
    "\n",
    "def DecisionTree():\n",
    "    classifier=tree.DecisionTreeClassifier()\n",
    "    classifier.fit(x_train,y_train)\n",
    "    predictions=classifier.predict(x_test)\n",
    "    accuracy = accuracy_score(y_test, predictions)\n",
    "    print(accuracy)"
   ]
  },
  {
   "cell_type": "code",
   "execution_count": 172,
   "id": "852ebd17",
   "metadata": {},
   "outputs": [
    {
     "name": "stdout",
     "output_type": "stream",
     "text": [
      "0.5072463768115942\n"
     ]
    }
   ],
   "source": [
    "DecisionTree()"
   ]
  },
  {
   "cell_type": "markdown",
   "id": "82369be3",
   "metadata": {},
   "source": [
    "# 随机森林"
   ]
  },
  {
   "cell_type": "code",
   "execution_count": 177,
   "id": "26e2edba",
   "metadata": {},
   "outputs": [],
   "source": [
    "from sklearn.ensemble import RandomForestClassifier\n",
    "from sklearn.metrics import accuracy_score\n",
    "\n",
    "def RandomForest():\n",
    "    classifier=RandomForestClassifier()\n",
    "    classifier.fit(x_train,y_train)\n",
    "    predictions=classifier.predict(x_test)\n",
    "    accuracy = accuracy_score(y_test, predictions)\n",
    "    print(accuracy)"
   ]
  },
  {
   "cell_type": "code",
   "execution_count": 178,
   "id": "c5183470",
   "metadata": {},
   "outputs": [
    {
     "name": "stdout",
     "output_type": "stream",
     "text": [
      "0.6086956521739131\n"
     ]
    }
   ],
   "source": [
    "RandomForest()"
   ]
  }
 ],
 "metadata": {
  "kernelspec": {
   "display_name": "Python 3 (ipykernel)",
   "language": "python",
   "name": "python3"
  },
  "language_info": {
   "codemirror_mode": {
    "name": "ipython",
    "version": 3
   },
   "file_extension": ".py",
   "mimetype": "text/x-python",
   "name": "python",
   "nbconvert_exporter": "python",
   "pygments_lexer": "ipython3",
   "version": "3.10.9"
  }
 },
 "nbformat": 4,
 "nbformat_minor": 5
}
